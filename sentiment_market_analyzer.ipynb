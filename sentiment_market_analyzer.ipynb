{
 "cells": [
  {
   "cell_type": "markdown",
   "id": "47e614f7",
   "metadata": {},
   "source": [
    "# Market Sentiment Analyzer\n",
    "\n",
    "A simple LangChain pipeline to analyze market sentiment for a company using real-time news. It:\n",
    "- Accepts a company name (e.g., 'Microsoft' or 'Apple Inc' or 'Tredence').\n",
    "- Fetches the stock ticker via web search (DuckDuckGo API).\n",
    "- Retrieves news using Yahoo Finance (for public companies) or web search (for private companies).\n",
    "- Analyzes sentiment with Azure OpenAI GPT-4o.\n",
    "- Logs steps with MLflow and outputs structured JSON.\n",
    "\n",
    "## Setup Instructions\n",
    "\n",
    "1. **Install Dependencies**:\n",
    "   ```bash\n",
    "   pip install mlflow langchain langchain-core langchain-community langchain-openai yfinance requests\n",
    "   ```\n",
    "\n",
    "## Azure and MLflow API Configuration Steps\n",
    "1. **Azure OpenAI Configuration**:\n",
    "   - Create an Azure OpenAI resource in the Azure portal.\n",
    "   - Deploy the `gpt-4o` model (deployment name: `gpt-4o`).\n",
    "   - Set environment variables:\n",
    "     ```bash\n",
    "     export AZURE_OPENAI_API_KEY=\"your-api-key\"\n",
    "     export AZURE_OPENAI_ENDPOINT=\"https://your-resource.openai.azure.com/\"\n",
    "     export AZURE_OPENAI_API_VERSION=\"2024-02-15-preview\"\n",
    "     ```\n",
    "2. **MLflow Configuration**:\n",
    "   - Ensure MLflow server is running at `http://20.75.92.162:5000`.\n",
    "   - Start locally if needed:\n",
    "     ```bash\n",
    "     mlflow ui --host 0.0.0.0 --port 5000\n",
    "     ```\n",
    "   - Verify access to the MLflow UI to view logs (experiment: `raj_market_sentiment_analyzer`).\n",
    "\n",
    "## Sample Command\n",
    "- For a Python script, run:\n",
    "  ```bash\n",
    "  python sentiment_analyzer.py --company \"Microsoft\"\n",
    "  ```\n",
    "- In this notebook, execute the cells below sequentially, setting `company = \"Microsoft\"` in the last cell.\n",
    "\n",
    "## Notes\n",
    "- Handles public (e.g., Microsoft) and private (e.g., Tredence) companies.\n",
    "- Uses `YahooFinanceNewsTool` for public companies and DuckDuckGo API for private ones.\n",
    "- No static lookup or mock news.\n",
    "- Logs to MLflow at `http://20.75.92.162:5000`.\n",
    "- Output is JSON with fields: `company_name`, `stock_code`, `newsdesc`, `sentiment`, `people_names`, `places_names`, `other_companies_referred`, `related_industries`, `market_implications`, `confidence_score`."
   ]
  },
  {
   "cell_type": "code",
   "execution_count": 94,
   "id": "e57d9305",
   "metadata": {},
   "outputs": [],
   "source": [
    "!python -m pip install mlflow --quiet --upgrade\n",
    "!python -m pip install langchain langchain-core langchain-community langchain-experimental yfinance requests --quiet\n",
    "!python -m pip install langchain-openai --quiet"
   ]
  },
  {
   "cell_type": "code",
   "execution_count": 95,
   "id": "61f09962",
   "metadata": {},
   "outputs": [],
   "source": [
    "model_name='gpt4o'\n",
    "\n",
    "from langchain_openai import AzureChatOpenAI\n",
    "\n",
    "model = AzureChatOpenAI(model=model_name)"
   ]
  },
  {
   "cell_type": "code",
   "execution_count": 96,
   "id": "4468168e",
   "metadata": {},
   "outputs": [],
   "source": [
    "import mlflow\n",
    "mlflow.set_tracking_uri(\"http://20.75.92.162:5000\")"
   ]
  },
  {
   "cell_type": "code",
   "execution_count": 97,
   "id": "808f6801",
   "metadata": {},
   "outputs": [],
   "source": [
    "import json\n",
    "import mlflow\n",
    "import requests\n",
    "import yfinance as yf\n",
    "from langchain_openai import AzureChatOpenAI\n",
    "from langchain_core.prompts import ChatPromptTemplate\n",
    "from langchain_core.output_parsers import JsonOutputParser\n",
    "from langchain_community.tools.yahoo_finance_news import YahooFinanceNewsTool"
   ]
  },
  {
   "cell_type": "code",
   "execution_count": 98,
   "id": "f303bc34",
   "metadata": {},
   "outputs": [],
   "source": [
    "# Initialize tools\n",
    "news_tool = YahooFinanceNewsTool()"
   ]
  },
  {
   "cell_type": "markdown",
   "id": "4dc42b4a",
   "metadata": {},
   "source": [
    "#Helper Functions"
   ]
  },
  {
   "cell_type": "code",
   "execution_count": 99,
   "id": "ae7eb272",
   "metadata": {},
   "outputs": [],
   "source": [
    "def web_search(query, num_results=5):\n",
    "    \"\"\"Simple web search using a free API (e.g., SerpAPI alternative or direct).\"\"\"\n",
    "    # Using a simple DuckDuckGo API wrapper without extra deps\n",
    "    try:\n",
    "        url = f\"https://api.duckduckgo.com/?q={query}&format=json&no_html=1&skip_disambig=1\"\n",
    "        response = requests.get(url)\n",
    "        data = response.json()\n",
    "        if 'AbstractText' in data and data['AbstractText']:\n",
    "            return data['AbstractText']\n",
    "        elif 'RelatedTopics' in data:\n",
    "            return ' '.join([t.get('Text', '') for t in data['RelatedTopics'][:3]])\n",
    "        else:\n",
    "            return \"No results found.\"\n",
    "    except Exception as e:\n",
    "        return f\"Search error: {str(e)}\"\n",
    "\n",
    "def get_stock_code(company_name):\n",
    "    \"\"\"Fetch stock ticker using web search and LLM.\"\"\"\n",
    "    with mlflow.start_run(nested=True, run_name=\"ticker_extraction\"):\n",
    "        search_result = web_search(f\"{company_name} stock ticker symbol\")\n",
    "        prompt = ChatPromptTemplate.from_template(\n",
    "            \"Extract the stock ticker for {company_name} from: {search_result}. \"\n",
    "            \"Return JSON with key 'ticker' (e.g., {{'ticker': 'MSFT'}}) or {{'ticker': 'N/A'}} if not found.\"\n",
    "        )\n",
    "        chain = prompt | model | JsonOutputParser()\n",
    "        result = chain.invoke({\"company_name\": company_name, \"search_result\": search_result})\n",
    "        ticker = result.get(\"ticker\", \"N/A\")\n",
    "        mlflow.log_param(\"company_name\", company_name)\n",
    "        mlflow.log_param(\"ticker\", ticker)\n",
    "        return ticker"
   ]
  },
  {
   "cell_type": "code",
   "execution_count": 100,
   "id": "207a1707",
   "metadata": {},
   "outputs": [],
   "source": [
    "def fetch_news(company_name, ticker):\n",
    "    \"\"\"Fetch news using Yahoo Finance or yf.\"\"\"\n",
    "    with mlflow.start_run(nested=True, run_name=\"news_fetching\"):\n",
    "        try:\n",
    "            if ticker == \"N/A\":\n",
    "                news = web_search(f\"{company_name} recent news 2025\", num_results=5)\n",
    "            else:\n",
    "                news = news_tool.run(ticker)\n",
    "                # Fallback to yf if Yahoo Finance returns no news\n",
    "                if not news or \"No news found\" in news:\n",
    "                    ticker_obj = yf.Ticker(ticker)\n",
    "                    news_items = ticker_obj.news[:3]  # Limit to 3\n",
    "                    news_list = [\n",
    "                        f\"{item['content'].get('title', '')}: {item['content'].get('provider', {}).get('displayName', '')}\"\n",
    "                        for item in news_items if item.get('content', {}).get('title')\n",
    "                    ]\n",
    "                    news = \"\\n\".join(news_list) if news_list else \"No news found.\"\n",
    "            news_summary = news[:500] + \"...\" if len(news) > 500 else news\n",
    "            mlflow.log_param(\"news_summary\", news_summary)\n",
    "            return news_summary\n",
    "        except Exception as e:\n",
    "            mlflow.log_param(\"news_error\", str(e))\n",
    "            return f\"No news found for {company_name}.\""
   ]
  },
  {
   "cell_type": "code",
   "execution_count": 101,
   "id": "d7bad6ee",
   "metadata": {},
   "outputs": [],
   "source": [
    "def analyze_sentiment(company_name, ticker, news):\n",
    "    \"\"\"Analyze news sentiment using LLM.\"\"\"\n",
    "    with mlflow.start_run(nested=True, run_name=\"raj_sentiment_analysis\"):\n",
    "        prompt = ChatPromptTemplate.from_template(\n",
    "            \"\"\"Analyze news for {company_name} ({ticker}) and return JSON with:\n",
    "            - company_name: string\n",
    "            - stock_code: string\n",
    "            - newsdesc: string (news summary)\n",
    "            - sentiment: string (Positive/Negative/Neutral)\n",
    "            - people_names: list of strings\n",
    "            - places_names: list of strings\n",
    "            - other_companies_referred: list of strings\n",
    "            - related_industries: list of strings\n",
    "            - market_implications: string\n",
    "            - confidence_score: float (0.0-1.0)\n",
    "            \n",
    "            News: {news}\"\"\"\n",
    "        )\n",
    "        chain = prompt | model | JsonOutputParser()\n",
    "        result = chain.invoke({\"company_name\": company_name, \"ticker\": ticker, \"news\": news})\n",
    "        mlflow.log_dict(result, \"sentiment.json\")\n",
    "        return result"
   ]
  },
  {
   "cell_type": "code",
   "execution_count": 102,
   "id": "7f5298e7",
   "metadata": {},
   "outputs": [],
   "source": [
    "def sentiment_pipeline(company_name):\n",
    "    \"\"\"Main pipeline for sentiment analysis.\"\"\"\n",
    "    mlflow.set_experiment(\"raj_market_sentiment_analyzer\")\n",
    "    with mlflow.start_run(run_name=f\"Sentiment_{company_name.replace(' ', '_')}\"):\n",
    "        ticker = get_stock_code(company_name)\n",
    "        news = fetch_news(company_name, ticker)\n",
    "        result = analyze_sentiment(company_name, ticker, news)\n",
    "        return result"
   ]
  },
  {
   "cell_type": "code",
   "execution_count": 104,
   "id": "61d5c39a",
   "metadata": {},
   "outputs": [
    {
     "name": "stdout",
     "output_type": "stream",
     "text": [
      " View run ticker_extraction at: http://20.75.92.162:5000/#/experiments/279042531225761139/runs/0f2142bf059d4e43a17314c248439103\n",
      "離 View experiment at: http://20.75.92.162:5000/#/experiments/279042531225761139\n",
      " View run news_fetching at: http://20.75.92.162:5000/#/experiments/279042531225761139/runs/b4ff5526f30141b487fb84ce88efc095\n",
      "離 View experiment at: http://20.75.92.162:5000/#/experiments/279042531225761139\n",
      " View run raj_sentiment_analysis at: http://20.75.92.162:5000/#/experiments/279042531225761139/runs/c5c81f17b03c47e98522ce6e748fe7f2\n",
      "離 View experiment at: http://20.75.92.162:5000/#/experiments/279042531225761139\n",
      " View run Sentiment_Microsoft at: http://20.75.92.162:5000/#/experiments/279042531225761139/runs/2da670861eb24e56b94088149fc1a69c\n",
      "離 View experiment at: http://20.75.92.162:5000/#/experiments/279042531225761139\n",
      "{\n",
      "  \"company_name\": \"Microsoft\",\n",
      "  \"stock_code\": \"MSFT\",\n",
      "  \"newsdesc\": \"The news highlights a comprehensive analysis of market trends involving Microsoft amidst other tech industries with mentions of Oracle's stock performance and broader discussions related to Fed rate cuts.\",\n",
      "  \"sentiment\": \"Neutral\",\n",
      "  \"people_names\": [],\n",
      "  \"places_names\": [],\n",
      "  \"other_companies_referred\": [\n",
      "    \"Oracle\",\n",
      "    \"Alphabet\",\n",
      "    \"Oklo\",\n",
      "    \"ASML\",\n",
      "    \"CoreWeave\",\n",
      "    \"Unilever\"\n",
      "  ],\n",
      "  \"related_industries\": [\n",
      "    \"Technology\",\n",
      "    \"Finance\"\n",
      "  ],\n",
      "  \"market_implications\": \"Indicates potential shifts in investor sentiment towards tech stocks, including Microsoft.\",\n",
      "  \"confidence_score\": 0.6\n",
      "}\n"
     ]
    }
   ],
   "source": [
    "# Run the pipeline\n",
    "company = \"Microsoft\"\n",
    "result = sentiment_pipeline(company)\n",
    "print(json.dumps(result, indent=2))"
   ]
  }
 ],
 "metadata": {
  "kernelspec": {
   "display_name": "genai",
   "language": "python",
   "name": "python3"
  },
  "language_info": {
   "codemirror_mode": {
    "name": "ipython",
    "version": 3
   },
   "file_extension": ".py",
   "mimetype": "text/x-python",
   "name": "python",
   "nbconvert_exporter": "python",
   "pygments_lexer": "ipython3",
   "version": "3.12.3"
  }
 },
 "nbformat": 4,
 "nbformat_minor": 5
}
